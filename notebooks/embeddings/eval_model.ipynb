{
 "cells": [
  {
   "cell_type": "code",
   "execution_count": 1,
   "id": "d857d920-c126-48aa-944d-4fa584ccdc1c",
   "metadata": {},
   "outputs": [
    {
     "name": "stderr",
     "output_type": "stream",
     "text": [
      "c:\\Users\\Maxim\\Desktop\\hw\\X5\\.venv\\Lib\\site-packages\\tqdm\\auto.py:21: TqdmWarning: IProgress not found. Please update jupyter and ipywidgets. See https://ipywidgets.readthedocs.io/en/stable/user_install.html\n",
      "  from .autonotebook import tqdm as notebook_tqdm\n"
     ]
    }
   ],
   "source": [
    "import torch\n",
    "from transformers import AutoModelForSequenceClassification, AutoTokenizer, TrainingArguments, Trainer, DataCollatorWithPadding\n",
    "from peft import LoraConfig, get_peft_model\n",
    "from datasets import load_from_disk\n",
    "from sklearn.metrics import accuracy_score, precision_score, recall_score, f1_score\n",
    "from tqdm import tqdm\n",
    "import torch\n",
    "from peft import PeftModel, PeftConfig\n",
    "from transformers import AutoModelForSequenceClassification, AutoTokenizer"
   ]
  },
  {
   "cell_type": "code",
   "execution_count": 2,
   "id": "ff18913e-738f-41a9-86b4-adc89fce0e4e",
   "metadata": {},
   "outputs": [],
   "source": [
    "base_model='intfloat/multilingual-e5-large'"
   ]
  },
  {
   "cell_type": "code",
   "execution_count": 3,
   "id": "140f571e-9f99-40d2-b460-eb2c60cd92f6",
   "metadata": {},
   "outputs": [
    {
     "name": "stderr",
     "output_type": "stream",
     "text": [
      "Some weights of XLMRobertaForSequenceClassification were not initialized from the model checkpoint at intfloat/multilingual-e5-large and are newly initialized: ['classifier.dense.bias', 'classifier.dense.weight', 'classifier.out_proj.bias', 'classifier.out_proj.weight']\n",
      "You should probably TRAIN this model on a down-stream task to be able to use it for predictions and inference.\n"
     ]
    }
   ],
   "source": [
    "model = AutoModelForSequenceClassification.from_pretrained(base_model, num_labels=2, device_map='cuda')\n",
    "tokenizer = AutoTokenizer.from_pretrained(base_model, device_map='cuda')"
   ]
  },
  {
   "cell_type": "code",
   "execution_count": 4,
   "id": "72922c6b-c226-46e8-99a0-a2c5d8a8b0e4",
   "metadata": {},
   "outputs": [],
   "source": [
    "peft_model_id = 'model f1=0.718475073313783, r=32, lora_alpha=64, lora_dropout=0.1, learning_rate=0.0001/'\n",
    "model = PeftModel.from_pretrained(model, peft_model_id)"
   ]
  },
  {
   "cell_type": "code",
   "execution_count": 5,
   "id": "b0bbd09d-d67e-42c5-bf3d-5d4f7764e2d2",
   "metadata": {},
   "outputs": [],
   "source": [
    "dataset = load_from_disk('splitted_dataset/')"
   ]
  },
  {
   "cell_type": "code",
   "execution_count": null,
   "id": "947f1934-ffe7-425f-9d00-6a317f9ca72c",
   "metadata": {
    "scrolled": true
   },
   "outputs": [
    {
     "name": "stderr",
     "output_type": "stream",
     "text": [
      " 57%|███████████████████████████████████████████████████████████████████████████████████████████████████████▋                                                                              | 159/279 [00:03<00:02, 43.14it/s]"
     ]
    }
   ],
   "source": [
    "results = []\n",
    "for i in tqdm(dataset['train'].to_list()):\n",
    "    inputs = tokenizer(i['text'], truncation=True, padding=True, return_tensors=\"pt\").to('cuda')\n",
    "    with torch.no_grad():\n",
    "        outputs = model(**inputs).logits.argmax().item()\n",
    "        results.append(outputs)"
   ]
  },
  {
   "cell_type": "code",
   "execution_count": null,
   "id": "394c282e-b01f-4b69-b1b0-d193c012f3cf",
   "metadata": {},
   "outputs": [],
   "source": [
    "test_results = []\n",
    "for i in tqdm(dataset['test'].to_list()):\n",
    "    inputs = tokenizer(i['text'], truncation=True, padding=True, return_tensors=\"pt\").to('cuda')\n",
    "    with torch.no_grad():\n",
    "        outputs = model(**inputs).logits.argmax().item()\n",
    "        test_results.append(outputs)"
   ]
  },
  {
   "cell_type": "code",
   "execution_count": null,
   "id": "0083e21d-10f3-4308-a423-8eaa1f0adb90",
   "metadata": {},
   "outputs": [],
   "source": [
    "def compute_metrics(labels, preds):\n",
    "    accuracy = accuracy_score(labels, preds)\n",
    "    precision = precision_score(labels, preds, average='weighted')\n",
    "    recall = recall_score(labels, preds, average='weighted')\n",
    "    f1 = f1_score(labels, preds, average='weighted')\n",
    "    return {\n",
    "        'accuracy': accuracy,\n",
    "        'precision': precision,\n",
    "        'recall': recall,\n",
    "        'f1': f1\n",
    "    }"
   ]
  },
  {
   "cell_type": "code",
   "execution_count": null,
   "id": "d1eeca01-b967-4bcf-b5a9-44547814128a",
   "metadata": {},
   "outputs": [],
   "source": [
    "compute_metrics(dataset['train']['label'], results)"
   ]
  },
  {
   "cell_type": "code",
   "execution_count": null,
   "id": "4f6990e5-7a88-4cb0-9515-7cbcf1d6e238",
   "metadata": {},
   "outputs": [],
   "source": [
    "compute_metrics(dataset['test']['label'], test_results)"
   ]
  },
  {
   "cell_type": "code",
   "execution_count": null,
   "id": "7b8447d8-2086-4e8a-83e7-1243c2bb2ac3",
   "metadata": {},
   "outputs": [],
   "source": []
  }
 ],
 "metadata": {
  "kernelspec": {
   "display_name": "venv",
   "language": "python",
   "name": "python3"
  },
  "language_info": {
   "codemirror_mode": {
    "name": "ipython",
    "version": 3
   },
   "file_extension": ".py",
   "mimetype": "text/x-python",
   "name": "python",
   "nbconvert_exporter": "python",
   "pygments_lexer": "ipython3",
   "version": "3.11.9"
  }
 },
 "nbformat": 4,
 "nbformat_minor": 5
}
