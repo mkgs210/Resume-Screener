{
 "cells": [
  {
   "cell_type": "code",
   "execution_count": 6,
   "metadata": {},
   "outputs": [
    {
     "name": "stderr",
     "output_type": "stream",
     "text": [
      "c:\\Users\\Maxim\\Desktop\\hw\\X5\\.venv\\Lib\\site-packages\\tqdm\\auto.py:21: TqdmWarning: IProgress not found. Please update jupyter and ipywidgets. See https://ipywidgets.readthedocs.io/en/stable/user_install.html\n",
      "  from .autonotebook import tqdm as notebook_tqdm\n"
     ]
    }
   ],
   "source": [
    "import torch.nn.functional as F\n",
    "\n",
    "from torch import Tensor\n",
    "from transformers import AutoTokenizer, AutoModel\n",
    "from tqdm import tqdm\n",
    "import pymupdf, fitz"
   ]
  },
  {
   "cell_type": "code",
   "execution_count": 7,
   "metadata": {},
   "outputs": [],
   "source": [
    "import pandas as pd"
   ]
  },
  {
   "cell_type": "code",
   "execution_count": 8,
   "metadata": {},
   "outputs": [],
   "source": [
    "def get_text_with_links(document):\n",
    "    result_text = \"\"\n",
    "    \n",
    "    for page_num in range(len(document)):\n",
    "        page = document.load_page(page_num)\n",
    "\n",
    "        # Получаем слова и их координаты\n",
    "        words = page.get_text(\"words\")\n",
    "        links = page.get_links()\n",
    "\n",
    "        # Временный словарь для отслеживания последнего индекса слова для каждого URL\n",
    "        last_occurrence_with_url = {}\n",
    "\n",
    "        wc_map = {tuple(word[:4]): word[4] for word in words}\n",
    "        \n",
    "        for link in links:\n",
    "            link_rect = fitz.Rect(link[\"from\"])\n",
    "            uri = link.get('uri', 'Нет ссылки')\n",
    "            \n",
    "            for i, word in enumerate(words):\n",
    "                text = word[4]   # текст слова\n",
    "                word_rect = fitz.Rect(word[:4])\n",
    "\n",
    "                # Проверка на пересечение координат\n",
    "                if word_rect.intersects(link_rect):\n",
    "                    last_occurrence_with_url[uri] = (i, tuple(word[:4]))\n",
    "\n",
    "        # Заменяем текст в конечном словаре ссылками на последних вхождениях\n",
    "        for uri, (index, rect) in last_occurrence_with_url.items():\n",
    "            wc_map[rect] = f'{wc_map[rect]}:\"{uri}\"'\n",
    "\n",
    "        # Сортировка слов по их координатам для правильного порядка\n",
    "        sorted_words = sorted(wc_map.items(), key=lambda x: (x[0][1], x[0][0]))\n",
    "\n",
    "        for item in sorted_words:\n",
    "            result_text += item[1] + \" \"\n",
    "    \n",
    "    return result_text.strip()  # добавляем strip для удаления лишних пробелов в конце"
   ]
  },
  {
   "cell_type": "code",
   "execution_count": 9,
   "metadata": {},
   "outputs": [],
   "source": [
    "def average_pool(last_hidden_states: Tensor,\n",
    "                 attention_mask: Tensor) -> Tensor:\n",
    "    last_hidden = last_hidden_states.masked_fill(~attention_mask[..., None].bool(), 0.0)\n",
    "    return last_hidden.sum(dim=1) / attention_mask.sum(dim=1)[..., None]\n",
    "\n",
    "tokenizer = AutoTokenizer.from_pretrained('intfloat/multilingual-e5-large', device_map=\"cuda\")\n",
    "model = AutoModel.from_pretrained('intfloat/multilingual-e5-large', device_map=\"cuda\")"
   ]
  },
  {
   "cell_type": "code",
   "execution_count": 10,
   "metadata": {},
   "outputs": [],
   "source": [
    "df = pd.read_csv('./interns_preprocessed/interns_preprocessed.csv').dropna().reset_index(drop=True)"
   ]
  },
  {
   "cell_type": "code",
   "execution_count": 11,
   "metadata": {},
   "outputs": [],
   "source": [
    "df['text']=None\n",
    "df['embedding']=None"
   ]
  },
  {
   "cell_type": "code",
   "execution_count": 12,
   "metadata": {},
   "outputs": [
    {
     "name": "stderr",
     "output_type": "stream",
     "text": [
      "100%|██████████████████████████████████████████████████████████████████████████████████████████████████████████████████████████████████████████████████████████████████████████████████████████████████████| 311/311 [00:11<00:00, 26.16it/s]\n"
     ]
    }
   ],
   "source": [
    "for i, pdf_file in enumerate(tqdm(df['Резюме'])):\n",
    "    pdf_file = pdf_file.replace('\\\\', '\\\\\\\\')\n",
    "    #print(pdf_file)\n",
    "    try:\n",
    "        with pymupdf.open(pdf_file) as doc:\n",
    "            text = get_text_with_links(doc)\n",
    "    except:\n",
    "        print('битый файл')\n",
    "        continue\n",
    "    \n",
    "    batch_dict = tokenizer(text, max_length=512, padding=True, truncation=True, return_tensors='pt').to('cuda')\n",
    "    embeddings = average_pool(model(**batch_dict).last_hidden_state, batch_dict['attention_mask'])\n",
    "    df.loc[i, ['text']] = [text]\n",
    "    df.loc[i, ['embedding']] = [embeddings.tolist()]"
   ]
  },
  {
   "cell_type": "code",
   "execution_count": null,
   "metadata": {},
   "outputs": [],
   "source": [
    "    "
   ]
  },
  {
   "cell_type": "code",
   "execution_count": 13,
   "metadata": {},
   "outputs": [],
   "source": [
    "df['label'] = df['Hire status']"
   ]
  },
  {
   "cell_type": "code",
   "execution_count": 17,
   "metadata": {},
   "outputs": [],
   "source": [
    "from datasets import Dataset"
   ]
  },
  {
   "cell_type": "code",
   "execution_count": 19,
   "metadata": {},
   "outputs": [],
   "source": [
    "dataset = Dataset.from_pandas(df[['text', 'label']])"
   ]
  },
  {
   "cell_type": "code",
   "execution_count": 23,
   "metadata": {},
   "outputs": [
    {
     "name": "stderr",
     "output_type": "stream",
     "text": [
      "Stringifying the column: 100%|███████████████████████████████████████████████████████████████████████████████████████████████████████████████████████████████████████████████████████████████████| 311/311 [00:00<00:00, 73842.54 examples/s]\n",
      "Casting to class labels: 100%|██████████████████████████████████████████████████████████████████████████████████████████████████████████████████████████████████████████████████████████████████| 311/311 [00:00<00:00, 101884.60 examples/s]\n"
     ]
    }
   ],
   "source": [
    "dataset = dataset.class_encode_column(\"label\")"
   ]
  },
  {
   "cell_type": "code",
   "execution_count": 26,
   "metadata": {},
   "outputs": [
    {
     "name": "stderr",
     "output_type": "stream",
     "text": [
      "Saving the dataset (1/1 shards): 100%|███████████████████████████████████████████████████████████████████████████████████████████████████████████████████████████████████████████████████████████| 279/279 [00:00<00:00, 54978.19 examples/s]\n",
      "Saving the dataset (1/1 shards): 100%|██████████████████████████████████████████████████████████████████████████████████████████████████████████████████████████████████████████████████████████████| 32/32 [00:00<00:00, 7544.14 examples/s]\n"
     ]
    }
   ],
   "source": [
    "dataset.train_test_split(test_size=0.1, seed=42, stratify_by_column='label').save_to_disk('splitted_dataset')"
   ]
  },
  {
   "cell_type": "code",
   "execution_count": null,
   "metadata": {},
   "outputs": [],
   "source": []
  }
 ],
 "metadata": {
  "kernelspec": {
   "display_name": "Python 3 (ipykernel)",
   "language": "python",
   "name": "python3"
  },
  "language_info": {
   "codemirror_mode": {
    "name": "ipython",
    "version": 3
   },
   "file_extension": ".py",
   "mimetype": "text/x-python",
   "name": "python",
   "nbconvert_exporter": "python",
   "pygments_lexer": "ipython3",
   "version": "3.11.0"
  }
 },
 "nbformat": 4,
 "nbformat_minor": 4
}
