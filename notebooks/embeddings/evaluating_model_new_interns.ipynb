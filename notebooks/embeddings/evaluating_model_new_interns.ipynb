{
 "cells": [
  {
   "cell_type": "code",
   "execution_count": 169,
   "metadata": {},
   "outputs": [],
   "source": [
    "import pandas as pd\n",
    "import os\n",
    "import win32com.client as win32\n",
    "import unicodedata\n",
    "from pathlib import Path\n",
    "from peft import PeftModel, PeftConfig\n",
    "from transformers import AutoModelForSequenceClassification, AutoTokenizer\n",
    "import torch\n",
    "import fitz\n",
    "from tqdm import tqdm\n",
    "from sklearn.metrics import (accuracy_score,\n",
    "                             precision_score,\n",
    "                             recall_score,\n",
    "                             f1_score,\n",
    "                             roc_auc_score)"
   ]
  },
  {
   "cell_type": "code",
   "execution_count": 170,
   "metadata": {},
   "outputs": [],
   "source": [
    "DATA_ROOT_PATH = Path(\"../data/preprocessed/new_interns\")"
   ]
  },
  {
   "cell_type": "code",
   "execution_count": null,
   "metadata": {},
   "outputs": [],
   "source": [
    "new_interns_df = pd.read_csv(DATA_ROOT_PATH / \"new_interns_preprocessed.csv\")\n",
    "new_interns_df"
   ]
  },
  {
   "cell_type": "code",
   "execution_count": 172,
   "metadata": {},
   "outputs": [],
   "source": [
    "BASE_MODEL_PATH = Path(\"../models/prediction_model/base_model\")\n",
    "TRAINED_MODEL_PATH = Path(\"../models/prediction_model/trained_model\")"
   ]
  },
  {
   "cell_type": "code",
   "execution_count": 173,
   "metadata": {},
   "outputs": [
    {
     "name": "stderr",
     "output_type": "stream",
     "text": [
      "Some weights of XLMRobertaForSequenceClassification were not initialized from the model checkpoint at ..\\models\\prediction_model\\base_model and are newly initialized: ['classifier.dense.bias', 'classifier.dense.weight', 'classifier.out_proj.bias', 'classifier.out_proj.weight']\n",
      "You should probably TRAIN this model on a down-stream task to be able to use it for predictions and inference.\n"
     ]
    }
   ],
   "source": [
    "base_model = AutoModelForSequenceClassification.from_pretrained(BASE_MODEL_PATH,\n",
    "                                                                num_labels=2,\n",
    "                                                                device_map='cpu')\n",
    "tokenizer = AutoTokenizer.from_pretrained(BASE_MODEL_PATH,\n",
    "                                          use_safetensors=True,\n",
    "                                          device_map='cpu')\n",
    "\n",
    "prediction_model = PeftModel.from_pretrained(base_model, TRAINED_MODEL_PATH)"
   ]
  },
  {
   "cell_type": "code",
   "execution_count": 174,
   "metadata": {},
   "outputs": [],
   "source": [
    "def predict_interview_outcome(text: str,\n",
    "                              tokenizer: AutoTokenizer,\n",
    "                              prediction_model: PeftModel\n",
    "                              ) -> int:\n",
    "    inputs = tokenizer(\n",
    "        text, return_tensors=\"pt\", padding=True, truncation=True\n",
    "    )\n",
    "\n",
    "    with torch.no_grad():\n",
    "        outputs = prediction_model(**inputs)\n",
    "\n",
    "    predictions = torch.argmax(outputs.logits, dim=-1).item()\n",
    "\n",
    "    if not isinstance(predictions, int):\n",
    "        predictions = int(predictions)\n",
    "\n",
    "    return predictions\n",
    "\n",
    "def extract_text_from_pdf(filepath: str | Path) -> str:\n",
    "    pdf_document = fitz.open(filepath)\n",
    "    text = \"\"\n",
    "\n",
    "    for page_num in range(len(pdf_document)):\n",
    "        page = pdf_document.load_page(page_num)\n",
    "        text += page.get_text()\n",
    "\n",
    "    return text"
   ]
  },
  {
   "cell_type": "code",
   "execution_count": null,
   "metadata": {},
   "outputs": [],
   "source": [
    "new_interns_df[\"Prediction\"] = None\n",
    "new_interns_df"
   ]
  },
  {
   "cell_type": "code",
   "execution_count": null,
   "metadata": {},
   "outputs": [],
   "source": [
    "for i, row in tqdm(new_interns_df.iterrows()):\n",
    "    text = extract_text_from_pdf(f\"../data/preprocessed/{row['Резюме']}\")\n",
    "    new_interns_df.loc[i, \"Prediction\"] = predict_interview_outcome(text,\n",
    "                                                                    tokenizer,\n",
    "                                                                    prediction_model)\n",
    "    \n",
    "new_interns_df"
   ]
  },
  {
   "cell_type": "code",
   "execution_count": 177,
   "metadata": {},
   "outputs": [
    {
     "name": "stdout",
     "output_type": "stream",
     "text": [
      "<class 'pandas.core.frame.DataFrame'>\n",
      "RangeIndex: 85 entries, 0 to 84\n",
      "Data columns (total 5 columns):\n",
      " #   Column       Non-Null Count  Dtype \n",
      "---  ------       --------------  ----- \n",
      " 0   Фамилия      85 non-null     object\n",
      " 1   Имя          85 non-null     object\n",
      " 2   Резюме       85 non-null     object\n",
      " 3   Hire status  85 non-null     int64 \n",
      " 4   Prediction   85 non-null     int32 \n",
      "dtypes: int32(1), int64(1), object(3)\n",
      "memory usage: 3.1+ KB\n"
     ]
    }
   ],
   "source": [
    "new_interns_df[\"Prediction\"] = new_interns_df[\"Prediction\"].astype(int)\n",
    "new_interns_df.info()"
   ]
  },
  {
   "cell_type": "code",
   "execution_count": 178,
   "metadata": {},
   "outputs": [],
   "source": [
    "def compute_metrics(labels, preds):\n",
    "    accuracy = accuracy_score(labels, preds)\n",
    "    precision = precision_score(labels, preds, average='weighted')\n",
    "    recall = recall_score(labels, preds, average='weighted')\n",
    "    f1 = f1_score(labels, preds, average='weighted')\n",
    "    roc_auc = roc_auc_score(labels, preds)\n",
    "    return {\n",
    "        'accuracy': accuracy,\n",
    "        'precision': precision,\n",
    "        'recall': recall,\n",
    "        'f1': f1,\n",
    "        'roc auc': roc_auc\n",
    "    }"
   ]
  },
  {
   "cell_type": "code",
   "execution_count": 179,
   "metadata": {},
   "outputs": [],
   "source": [
    "y_true = new_interns_df[\"Hire status\"]\n",
    "y_pred = new_interns_df[\"Prediction\"]"
   ]
  },
  {
   "cell_type": "code",
   "execution_count": 180,
   "metadata": {},
   "outputs": [
    {
     "name": "stdout",
     "output_type": "stream",
     "text": [
      "Accuracy: 0.4941\n",
      "Precision: 0.5660\n",
      "Recall: 0.4941\n",
      "F1: 0.5049\n",
      "ROC AUC: 0.5163\n"
     ]
    }
   ],
   "source": [
    "metrics = compute_metrics(y_true, y_pred)\n",
    "\n",
    "print(f\"Accuracy: {metrics['accuracy']:.4f}\")\n",
    "print(f\"Precision: {metrics['precision']:.4f}\")\n",
    "print(f\"Recall: {metrics['recall']:.4f}\")\n",
    "print(f\"F1: {metrics['f1']:.4f}\")\n",
    "print(f\"ROC AUC: {metrics['roc auc']:.4f}\")"
   ]
  },
  {
   "cell_type": "code",
   "execution_count": null,
   "metadata": {},
   "outputs": [],
   "source": []
  }
 ],
 "metadata": {
  "kernelspec": {
   "display_name": "venv",
   "language": "python",
   "name": "python3"
  },
  "language_info": {
   "codemirror_mode": {
    "name": "ipython",
    "version": 3
   },
   "file_extension": ".py",
   "mimetype": "text/x-python",
   "name": "python",
   "nbconvert_exporter": "python",
   "pygments_lexer": "ipython3",
   "version": "3.11.9"
  }
 },
 "nbformat": 4,
 "nbformat_minor": 2
}
