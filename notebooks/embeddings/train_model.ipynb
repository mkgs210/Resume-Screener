{
 "cells": [
  {
   "cell_type": "code",
   "execution_count": 1,
   "id": "c6a68dd7-0ed8-43e6-a748-b3fdffa241d3",
   "metadata": {},
   "outputs": [
    {
     "name": "stderr",
     "output_type": "stream",
     "text": [
      "c:\\Users\\Maxim\\Desktop\\hw\\X5\\.venv\\Lib\\site-packages\\tqdm\\auto.py:21: TqdmWarning: IProgress not found. Please update jupyter and ipywidgets. See https://ipywidgets.readthedocs.io/en/stable/user_install.html\n",
      "  from .autonotebook import tqdm as notebook_tqdm\n"
     ]
    }
   ],
   "source": [
    "import torch\n",
    "from transformers import AutoModelForSequenceClassification, AutoTokenizer, TrainingArguments, Trainer, DataCollatorWithPadding\n",
    "from peft import LoraConfig, get_peft_model\n",
    "from datasets import load_from_disk\n",
    "from sklearn.metrics import accuracy_score, precision_score, recall_score, f1_score\n",
    "from tqdm import tqdm\n",
    "import numpy as np"
   ]
  },
  {
   "cell_type": "code",
   "execution_count": 2,
   "id": "1d31c24c-32f3-407c-b069-4c77e5319c9a",
   "metadata": {
    "scrolled": true
   },
   "outputs": [],
   "source": [
    "base_model='intfloat/multilingual-e5-large'\n",
    "\n",
    "tokenizer = AutoTokenizer.from_pretrained(base_model, use_fast=True)"
   ]
  },
  {
   "cell_type": "code",
   "execution_count": 3,
   "id": "0552668d-9145-4df6-bd4f-57cf92ea8329",
   "metadata": {},
   "outputs": [],
   "source": [
    "dataset = load_from_disk('splitted_dataset/')"
   ]
  },
  {
   "cell_type": "code",
   "execution_count": 4,
   "id": "5e130d36-2a25-41d1-9dda-953011cd8ea0",
   "metadata": {},
   "outputs": [],
   "source": [
    "def preprocess(examples):\n",
    "    tokenized = tokenizer(examples['text'], truncation=True, padding=True)\n",
    "    return tokenized\n",
    "\n",
    "tokenized_dataset = dataset.map(preprocess, batched=True,  remove_columns=[\"text\"])"
   ]
  },
  {
   "cell_type": "code",
   "execution_count": 5,
   "id": "9bb1216e-53d5-47c1-9d54-08b11b4c7d59",
   "metadata": {},
   "outputs": [
    {
     "name": "stdout",
     "output_type": "stream",
     "text": [
      "number of labels: 2\n",
      "the labels: ['0', '1']\n"
     ]
    }
   ],
   "source": [
    "num_labels = dataset['train'].features['label'].num_classes\n",
    "class_names = dataset[\"train\"].features[\"label\"].names\n",
    "print(f\"number of labels: {num_labels}\")\n",
    "print(f\"the labels: {class_names}\")\n",
    "\n",
    "id2label = {i: label for i, label in enumerate(class_names)}\n",
    "\n",
    "data_collator = DataCollatorWithPadding(tokenizer=tokenizer, return_tensors=\"pt\")"
   ]
  },
  {
   "cell_type": "code",
   "execution_count": 6,
   "id": "29b1f5ea-791e-4ac0-b276-0beaa7113f22",
   "metadata": {},
   "outputs": [],
   "source": [
    "def compute_metrics(pred):\n",
    "    labels = pred.label_ids\n",
    "    preds = pred.predictions.argmax(-1)\n",
    "    \n",
    "    # Calculate accuracy\n",
    "    accuracy = accuracy_score(labels, preds)\n",
    "\n",
    "   # Calculate precision, recall, and F1-score\n",
    "    precision = precision_score(labels, preds, average='weighted')\n",
    "    recall = recall_score(labels, preds, average='weighted')\n",
    "    f1 = f1_score(labels, preds, average='weighted')\n",
    "    \n",
    "    return {\n",
    "        'accuracy': accuracy,\n",
    "        'precision': precision,\n",
    "        'recall': recall,\n",
    "        'f1': f1\n",
    "    }"
   ]
  },
  {
   "cell_type": "code",
   "execution_count": 7,
   "id": "047aaf71-a04f-43f0-9ad9-c8bf2f301c63",
   "metadata": {
    "scrolled": true
   },
   "outputs": [],
   "source": [
    "#pip install torch==2.5.1+cu124 torchvision torchaudio --index-url https://download.pytorch.org/whl/cu124"
   ]
  },
  {
   "cell_type": "code",
   "execution_count": 8,
   "id": "c8c4ae52-eb44-4d78-8afe-a2b73b316b4d",
   "metadata": {
    "scrolled": true
   },
   "outputs": [],
   "source": [
    "# best_res = {'eval_f1':0.71}\n",
    "\n",
    "# model = AutoModelForSequenceClassification.from_pretrained(base_model, id2label=id2label, device_map='cuda')\n",
    "# for init_lora_weights in ['gaussian', 'pissa', 'olora']:\n",
    "#     for r in tqdm([16, 32]):\n",
    "#         for lora_alpha in [32, 64]:\n",
    "#             for lora_dropout in [0.05, 0.075, 0.1, 0.125, 0.15]:\n",
    "#                 for learning_rate in [5e-05, 7e-05, 1e-04, 2e-04, 3e-04]:\n",
    "#                     peft_config = LoraConfig(task_type=\"SEQ_CLS\", inference_mode=False, r=r, lora_alpha=lora_alpha, lora_dropout=lora_dropout, \n",
    "#                                             init_lora_weights=init_lora_weights, #use_rslora=True, \n",
    "#                                             )\n",
    "#                     peft_model = get_peft_model(model, peft_config)\n",
    "    \n",
    "#                     training_args = TrainingArguments(\n",
    "#                         output_dir=\"test_trainer\", \n",
    "#                         fp16=True,\n",
    "#                         num_train_epochs=30,\n",
    "#                         load_best_model_at_end=True,\n",
    "#                         metric_for_best_model='f1',\n",
    "#                         greater_is_better=True,\n",
    "#                         per_device_train_batch_size = 16,\n",
    "#                         per_device_eval_batch_size = 16,\n",
    "#                         learning_rate = learning_rate,\n",
    "#                         logging_strategy='epoch',\n",
    "#                         save_strategy='epoch',\n",
    "#                         eval_strategy='epoch',\n",
    "#                         seed=42,\n",
    "#                     )\n",
    "#                     trainer = Trainer(\n",
    "#                         model=peft_model,\n",
    "#                         args=training_args,\n",
    "#                         data_collator=data_collator,\n",
    "#                         train_dataset=tokenized_dataset['train'],\n",
    "#                         eval_dataset=tokenized_dataset['test'],\n",
    "#                         compute_metrics=compute_metrics,\n",
    "#                         #tokenizer=tokenizer\n",
    "#                     )\n",
    "#                     trainer.train()\n",
    "#                     eval_res = trainer.evaluate()\n",
    "#                     if best_res['eval_f1']<eval_res['eval_f1']:\n",
    "#                         best_res=eval_res\n",
    "#                         print(f'saved in f1={eval_res[\"eval_f1\"]}, r={r}, lora_alpha={lora_alpha}, lora_dropout={lora_dropout}, learning_rate={learning_rate}', best_res)\n",
    "#                         trainer.model.save_pretrained(f'model f1={eval_res[\"eval_f1\"]}, r={r}, lora_alpha={lora_alpha}, lora_dropout={lora_dropout}, learning_rate={learning_rate}')"
   ]
  },
  {
   "cell_type": "code",
   "execution_count": 9,
   "id": "371f3c51-c181-471b-9222-c261e00429bb",
   "metadata": {},
   "outputs": [],
   "source": [
    "def get_params():\n",
    "    np.random.seed(None)\n",
    "    init_lora_weights = str(np.random.choice(['gaussian', 'pissa', 'olora']))\n",
    "    r = int(np.random.choice([8, 16, 32, 64]))\n",
    "    lora_alpha =  int(np.random.choice([16, 32, 64])) #int(np.random.choice([i for i in [16, 32, 64, 128] if i>r]))\n",
    "    lora_dropout = np.random.uniform(0, 0.15)\n",
    "    learning_rate = np.random.uniform(5e-05, 3e-04)\n",
    "    return init_lora_weights, r, lora_alpha, lora_dropout, learning_rate"
   ]
  },
  {
   "cell_type": "code",
   "execution_count": 10,
   "id": "603d409f-c746-4e63-881e-5aeb990672a0",
   "metadata": {},
   "outputs": [],
   "source": [
    "def get_trainer(torch_seed):\n",
    "    while True:\n",
    "        torch.manual_seed(torch_seed)\n",
    "        model = AutoModelForSequenceClassification.from_pretrained(base_model, id2label=id2label, device_map='cuda')\n",
    "        init_lora_weights, r, lora_alpha, lora_dropout, learning_rate = get_params()\n",
    "        #print(f'init_lora_weights={init_lora_weights}, r={r}, lora_alpha={lora_alpha}, lora_dropout={lora_dropout}, learning_rate={learning_rate}')\n",
    "        peft_config = LoraConfig(task_type=\"SEQ_CLS\", inference_mode=False, r=r, lora_alpha=lora_alpha, lora_dropout=lora_dropout, \n",
    "                            init_lora_weights=init_lora_weights, #use_rslora=True,\n",
    "                            )\n",
    "        peft_model = get_peft_model(model, peft_config)\n",
    "    \n",
    "        training_args = TrainingArguments(\n",
    "            output_dir=\"test_trainer\", \n",
    "            fp16=True,\n",
    "            num_train_epochs=50,\n",
    "            load_best_model_at_end=True,\n",
    "            metric_for_best_model='f1',\n",
    "            greater_is_better=True,\n",
    "            per_device_train_batch_size = 16,\n",
    "            per_device_eval_batch_size = 16,\n",
    "            learning_rate = learning_rate,\n",
    "            logging_strategy='epoch',\n",
    "            save_strategy='epoch',\n",
    "            eval_strategy='epoch',\n",
    "            seed=42,\n",
    "        )\n",
    "        trainer = Trainer(\n",
    "            model=peft_model,\n",
    "            args=training_args,\n",
    "            data_collator=data_collator,\n",
    "            train_dataset=tokenized_dataset['train'],\n",
    "            eval_dataset=tokenized_dataset['test'],\n",
    "            compute_metrics=compute_metrics,\n",
    "            #tokenizer=tokenizer\n",
    "        )\n",
    "        evals = trainer.evaluate()\n",
    "        train_evals = trainer.evaluate(tokenized_dataset['train'])\n",
    "        print(evals['eval_f1'], train_evals['eval_f1'])\n",
    "        if evals['eval_f1']+train_evals['eval_f1']<1.2:\n",
    "            torch_seed+=1\n",
    "            continue\n",
    "        print(torch_seed)\n",
    "        return trainer, init_lora_weights, r, lora_alpha, lora_dropout, learning_rate, torch_seed"
   ]
  },
  {
   "cell_type": "code",
   "execution_count": 11,
   "id": "a8859265-f202-4414-a310-4829aa750340",
   "metadata": {},
   "outputs": [],
   "source": [
    "import warnings\n",
    "import logging\n",
    "warnings.filterwarnings('ignore')\n",
    "logging.getLogger(\"transfomers.modeling_utils\").setLevel(logging.ERROR)"
   ]
  },
  {
   "cell_type": "code",
   "execution_count": null,
   "id": "e58a67cb-6dbb-44d8-a68a-5347d3c7f58a",
   "metadata": {
    "scrolled": true
   },
   "outputs": [],
   "source": [
    "best_res = {'eval_f1':0.71}\n",
    "\n",
    "torch_seed = 2411\n",
    "for i in tqdm(range(600)):\n",
    "    trainer, init_lora_weights, r, lora_alpha, lora_dropout, learning_rate, torch_seed = get_trainer(torch_seed)\n",
    "    print(f'init_lora_weights={init_lora_weights}, r={r}, lora_alpha={lora_alpha}, lora_dropout={lora_dropout}, learning_rate={learning_rate}')\n",
    "    \n",
    "    trainer.train()\n",
    "    eval_res = trainer.evaluate()\n",
    "    print(eval_res)\n",
    "    if best_res['eval_f1']<eval_res['eval_f1']:\n",
    "        best_res=eval_res\n",
    "        print(f'saved in f1={eval_res[\"eval_f1\"]}, init_lora_weights={init_lora_weights}, r={r}, lora_alpha={lora_alpha}, lora_dropout={lora_dropout}, learning_rate={learning_rate}', best_res)\n",
    "        trainer.model.save_pretrained(f'model f1={eval_res[\"eval_f1\"]}, init_lora_weights={init_lora_weights}, r={r}, lora_alpha={lora_alpha}, lora_dropout={lora_dropout}, learning_rate={learning_rate}')"
   ]
  },
  {
   "cell_type": "code",
   "execution_count": null,
   "id": "ba7665bf-69b7-4a9f-b491-8f45ba869b58",
   "metadata": {
    "scrolled": true
   },
   "outputs": [],
   "source": [
    "# model = AutoModelForSequenceClassification.from_pretrained(base_model, id2label=id2label, device_map='cuda', trust_remote_code=True)\n",
    "\n",
    "# peft_config = LoraConfig(task_type=\"SEQ_CLS\", inference_mode=False, r=32, lora_alpha=64, lora_dropout=0.1, init_lora_weights='olora')\n",
    "# peft_model = get_peft_model(model, peft_config)\n",
    "\n",
    "# peft_model.print_trainable_parameters()"
   ]
  },
  {
   "cell_type": "code",
   "execution_count": null,
   "id": "7860d63a-3a96-4be8-b226-40ada51ef05e",
   "metadata": {},
   "outputs": [],
   "source": [
    "# training_args = TrainingArguments(\n",
    "#     output_dir=\"test_trainer\", \n",
    "#     fp16=True,\n",
    "#     num_train_epochs=30,\n",
    "#     load_best_model_at_end=True,\n",
    "#     metric_for_best_model='f1',\n",
    "#     greater_is_better=True,\n",
    "#     per_device_train_batch_size = 16,\n",
    "#     per_device_eval_batch_size = 16,\n",
    "#     learning_rate = 1e-04,\n",
    "#     logging_strategy='epoch',\n",
    "#     save_strategy='epoch',\n",
    "#     eval_strategy='epoch',\n",
    "#     seed=42,\n",
    "# )"
   ]
  },
  {
   "cell_type": "code",
   "execution_count": null,
   "id": "14cc11d1-a6b4-42bd-9247-75ecdeaac14c",
   "metadata": {},
   "outputs": [],
   "source": [
    "# trainer = Trainer(\n",
    "#     model=peft_model,\n",
    "#     args=training_args,\n",
    "#     data_collator=data_collator,\n",
    "#     train_dataset=tokenized_dataset['train'],\n",
    "#     eval_dataset=tokenized_dataset['test'],\n",
    "#     compute_metrics=compute_metrics,\n",
    "#     #tokenizer=tokenizer\n",
    "# )"
   ]
  },
  {
   "cell_type": "code",
   "execution_count": null,
   "id": "e9a5557b-99fd-4635-8b2b-e747fe006b2a",
   "metadata": {
    "scrolled": true
   },
   "outputs": [],
   "source": [
    "# trainer.train()"
   ]
  },
  {
   "cell_type": "code",
   "execution_count": null,
   "id": "fcd2fc3c-df33-41ac-9c0f-b8f0b894faad",
   "metadata": {},
   "outputs": [],
   "source": [
    "#r=32, lora_alpha=64, lora_dropout=0.1 batch 16\n",
    "trainer.evaluate()"
   ]
  },
  {
   "cell_type": "code",
   "execution_count": null,
   "id": "b5303b79-3c9d-405f-9356-e6b77ec8e51f",
   "metadata": {
    "scrolled": true
   },
   "outputs": [],
   "source": []
  },
  {
   "cell_type": "code",
   "execution_count": null,
   "id": "855853ea-108f-47fa-8e82-b90fd99e3306",
   "metadata": {},
   "outputs": [],
   "source": []
  }
 ],
 "metadata": {
  "kernelspec": {
   "display_name": "Python 3 (ipykernel)",
   "language": "python",
   "name": "python3"
  },
  "language_info": {
   "codemirror_mode": {
    "name": "ipython",
    "version": 3
   },
   "file_extension": ".py",
   "mimetype": "text/x-python",
   "name": "python",
   "nbconvert_exporter": "python",
   "pygments_lexer": "ipython3",
   "version": "3.11.0"
  }
 },
 "nbformat": 4,
 "nbformat_minor": 5
}
