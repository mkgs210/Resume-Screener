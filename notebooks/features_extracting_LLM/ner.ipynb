{
 "cells": [
  {
   "cell_type": "code",
   "execution_count": 721,
   "id": "a02a54e6-44c6-4b43-81b8-3dfd43403e93",
   "metadata": {},
   "outputs": [],
   "source": [
    "from openai import OpenAI\n",
    "client = OpenAI(api_key=\"any-key\", base_url=\"http://mn-dgx01.x5.ru:8000/v1\")"
   ]
  },
  {
   "cell_type": "code",
   "execution_count": 761,
   "id": "78c79dad-f36c-4255-a7a2-4740803a88a4",
   "metadata": {},
   "outputs": [],
   "source": [
    "def get_text_with_links(document):\n",
    "    result_text = \"\"\n",
    "    \n",
    "    for page_num in range(len(document)):\n",
    "        page = document.load_page(page_num)\n",
    "\n",
    "        # Получаем слова и их координаты\n",
    "        words = page.get_text(\"words\")\n",
    "        links = page.get_links()\n",
    "\n",
    "        # Временный словарь для отслеживания последнего индекса слова для каждого URL\n",
    "        last_occurrence_with_url = {}\n",
    "\n",
    "        wc_map = {tuple(word[:4]): word[4] for word in words}\n",
    "        \n",
    "        for link in links:\n",
    "            link_rect = fitz.Rect(link[\"from\"])\n",
    "            uri = link.get('uri', 'Нет ссылки')\n",
    "            \n",
    "            for i, word in enumerate(words):\n",
    "                text = word[4]   # текст слова\n",
    "                word_rect = fitz.Rect(word[:4])\n",
    "\n",
    "                # Проверка на пересечение координат\n",
    "                if word_rect.intersects(link_rect):\n",
    "                    last_occurrence_with_url[uri] = (i, tuple(word[:4]))\n",
    "\n",
    "        # Заменяем текст в конечном словаре ссылками на последних вхождениях\n",
    "        for uri, (index, rect) in last_occurrence_with_url.items():\n",
    "            wc_map[rect] = f'{wc_map[rect]}:\"{uri}\"'\n",
    "\n",
    "        # Сортировка слов по их координатам для правильного порядка\n",
    "        sorted_words = sorted(wc_map.items(), key=lambda x: (x[0][1], x[0][0]))\n",
    "\n",
    "        for item in sorted_words:\n",
    "            result_text += item[1] + \" \"\n",
    "    \n",
    "    return result_text.strip()  # добавляем strip для удаления лишних пробелов в конце"
   ]
  },
  {
   "cell_type": "code",
   "execution_count": 810,
   "id": "9d8aeac2-4edf-45f6-b11b-1190a9d8e46e",
   "metadata": {},
   "outputs": [],
   "source": [
    "def get_ner_reply(messages, print_it=False):\n",
    "    reply = client.chat.completions.create(\n",
    "        messages=messages,\n",
    "        model=\"x5-airun-medium\",\n",
    "        seed=42,\n",
    "        #top_k=50,\n",
    "        top_p=0.95,\n",
    "        temperature=0.3,\n",
    "        max_tokens=600,\n",
    "        frequency_penalty=0.5,\n",
    "        presence_penalty=-0.5,\n",
    "    ).choices[0].message.content.replace('null', 'None').replace('\\\\\"', '').replace('\\n', '').replace('\"\"', '\"').replace('\": \"}', '\": \"\"}').replace(' \",', ' \"\",').replace(' \"]', ' \"\"]').replace('\": \"  }', '\": \"\"}').replace('} }', '}}')\n",
    "    if print_it:\n",
    "        print(reply)\n",
    "    try:\n",
    "        try:\n",
    "            try:\n",
    "                dict_reply = ast.literal_eval(reply[reply.find('{'):reply.rfind('}')+1])\n",
    "            except:\n",
    "                dict_reply = ast.literal_eval(reply[reply.find('{'):reply.find('}}')+2])\n",
    "        except:\n",
    "            if \"Другие ссылки\" in reply:\n",
    "                dict_reply = ast.literal_eval(reply[reply.find('{'):reply.rfind(\"Другие ссылки\")-1]+'}}')\n",
    "            elif \"Другие контакты\" in reply:\n",
    "                dict_reply = ast.literal_eval(reply[reply.find('{'):reply.rfind(\"Другие контакты\")-1]+'}}')\n",
    "            else:\n",
    "                #reply = reply.replace('\\n', '')\n",
    "                dict_reply = ast.literal_eval(reply[reply.find('{'):reply.rfind('}')+2])\n",
    "                for i in list(dict_reply['Контакты'].keys()):\n",
    "                    if i not in ['Телефон', 'Telegram', 'Email', 'LinkedIn', 'GitHub']:\n",
    "                        del dict_reply['Контакты'][i]\n",
    "                        \n",
    "        new_reply = deepcopy(dict_reply)\n",
    "\n",
    "        for k, v in dict_reply.items():\n",
    "            if isinstance(v, dict):\n",
    "                new_subdict = {}\n",
    "                for vk, vv in v.items():\n",
    "                    if vv is not None and vv != \"\":\n",
    "                        if isinstance(vv, list):\n",
    "                            cleaned_list = [i for i in vv if i is not None and i != \"\"]\n",
    "                            if cleaned_list:\n",
    "                                new_subdict[vk] = cleaned_list if len(cleaned_list) > 1 else cleaned_list[0]\n",
    "                        else:\n",
    "                            new_subdict[vk] = vv\n",
    "                new_reply[k] = new_subdict\n",
    "        new_reply = {k: v for k, v in new_reply.items() if v or v == 0}\n",
    "        \n",
    "        return json.dumps(new_reply, ensure_ascii=False)\n",
    "    except:\n",
    "        print('not json')\n",
    "        return reply"
   ]
  },
  {
   "cell_type": "code",
   "execution_count": null,
   "id": "6183155d-8b50-453e-b015-b728754ade45",
   "metadata": {},
   "outputs": [],
   "source": []
  },
  {
   "cell_type": "code",
   "execution_count": 723,
   "id": "3f61b6c5-5d75-4eae-8b84-20f02aae30fb",
   "metadata": {},
   "outputs": [],
   "source": [
    "from glob import glob\n",
    "import pymupdf\n",
    "from tqdm import tqdm\n",
    "import ast, json\n",
    "from copy import deepcopy"
   ]
  },
  {
   "cell_type": "code",
   "execution_count": 726,
   "id": "9d71861f-7946-4eb7-bdf9-86afd331d1ea",
   "metadata": {},
   "outputs": [],
   "source": [
    "paths = glob('../interns_preprocessed/interns_preprocessed/*/*.pdf')"
   ]
  },
  {
   "cell_type": "code",
   "execution_count": 805,
   "id": "af16d31e-f40e-4402-911b-a4794cc61a22",
   "metadata": {},
   "outputs": [],
   "source": [
    "ner_prompt = \"\"\"Извлеки из резюме ФИО и контакты, рассортируй ссылки в формате json. Структура ответа:\n",
    "{\"ФИО\": \"\", \"Контакты\": {\"Телефон\": \"\", ...}}\n",
    "\n",
    "В ответе могут быть Телефон, Telegram, Email, LinkedIn, GitHub и другие контакты.\n",
    "Если какая-то информация в тексте и ссылках не указана, пиши null.\n",
    "Ссылки всегда пиши в \"\" по краям.\n",
    "Указывай полные ссылки с http/https если возможно.\n",
    "Российские номера начинаются с 8 либо с +7.\n",
    "Обязательно закрывай списки и json.\n",
    "Резюме: \"\"\""
   ]
  },
  {
   "cell_type": "code",
   "execution_count": null,
   "id": "fbb9b1b2-02c8-4a92-b92d-1295292e64cf",
   "metadata": {
    "scrolled": true
   },
   "outputs": [],
   "source": [
    "with pymupdf.open(paths[291]) as doc:  # open document\n",
    "    text = get_text_with_links(doc)\n",
    "messages = [\n",
    "    {\"role\": \"user\", \"content\": ner_prompt+text}\n",
    "]\n",
    "print(get_ner_reply(messages, print_it=True))"
   ]
  },
  {
   "cell_type": "code",
   "execution_count": null,
   "id": "7d26ab57-72c5-4883-a0c2-0418d6f8fbba",
   "metadata": {},
   "outputs": [],
   "source": []
  },
  {
   "cell_type": "code",
   "execution_count": 794,
   "id": "9f2deaac-83ea-4772-b20b-52df2d6dee78",
   "metadata": {
    "scrolled": true
   },
   "outputs": [],
   "source": [
    "# with pymupdf.open(paths[90]) as doc:  # open document\n",
    "#     text = chr(12).join([page.get_text() for page in doc])\n",
    "#     text = 'Ссылки:\\n'+'\\n'.join(set([uri['uri'].replace('mailto:','') if 'uri' in uri \n",
    "#                                       else uri['file'].replace('mailto:','') if 'file' in uri\n",
    "#                                       else ''\n",
    "#                                       for page in doc for uri in page.get_links()]))+'\\nТекст резюме:\\n'+text\n",
    "# messages = [\n",
    "#     {\"role\": \"user\", \"content\": ner_prompt+text}\n",
    "# ]\n",
    "# print(get_ner_reply(messages, print_it=False))"
   ]
  },
  {
   "cell_type": "code",
   "execution_count": 754,
   "id": "d326e3ff-85d1-41de-92a2-7804fba497f5",
   "metadata": {
    "scrolled": true
   },
   "outputs": [],
   "source": [
    "# print(text)"
   ]
  },
  {
   "cell_type": "code",
   "execution_count": 696,
   "id": "d026b0d1-2d6e-4ae8-9290-1b469edd3aae",
   "metadata": {
    "scrolled": true
   },
   "outputs": [],
   "source": [
    "# print(df.loc[178].text)"
   ]
  },
  {
   "cell_type": "code",
   "execution_count": null,
   "id": "e3da0750-4cda-4417-a670-974051c6e305",
   "metadata": {},
   "outputs": [],
   "source": []
  },
  {
   "cell_type": "code",
   "execution_count": 815,
   "id": "67c020bf-1a62-47a0-b8b4-b7965ba685d2",
   "metadata": {
    "scrolled": true
   },
   "outputs": [
    {
     "name": "stderr",
     "output_type": "stream",
     "text": [
      "100%|█████████████████████████████████████████| 311/311 [15:23<00:00,  2.97s/it]\n"
     ]
    }
   ],
   "source": [
    "pdf_extract = []\n",
    "for pdf_file in tqdm(paths):\n",
    "    with pymupdf.open(pdf_file) as doc:  # open document\n",
    "        # text = chr(12).join([page.get_text() for page in doc])\n",
    "        # text = 'Ссылки:\\n'+'\\n'.join(set([uri['uri'].replace('mailto:','') if 'uri' in uri \n",
    "        #                               else uri['file'].replace('mailto:','') if 'file' in uri\n",
    "        #                               else ''\n",
    "        #                               for page in doc for uri in page.get_links()]))+'\\nТекст резюме:\\n'+text\n",
    "        text = get_text_with_links(doc)\n",
    "    messages = [\n",
    "        {\"role\": \"user\", \"content\": ner_prompt+text}\n",
    "    ]\n",
    "    pdf_extract.append([pdf_file, text, get_ner_reply(messages)])"
   ]
  },
  {
   "cell_type": "code",
   "execution_count": 816,
   "id": "1a91a0ed-f077-4ae4-8185-717e6f61edff",
   "metadata": {},
   "outputs": [],
   "source": [
    "import pandas as pd"
   ]
  },
  {
   "cell_type": "code",
   "execution_count": 817,
   "id": "5503d88b-1d6c-4909-a93d-2d23ca4fb67f",
   "metadata": {},
   "outputs": [],
   "source": [
    "df = pd.DataFrame(pdf_extract, columns=['filepath', 'text', 'NER'])"
   ]
  },
  {
   "cell_type": "code",
   "execution_count": 818,
   "id": "c2aac772-e309-4694-b996-56ffd3d17a54",
   "metadata": {},
   "outputs": [
    {
     "data": {
      "text/plain": [
       "True"
      ]
     },
     "execution_count": 818,
     "metadata": {},
     "output_type": "execute_result"
    }
   ],
   "source": [
    "df.loc[0].text != df.loc[1].text"
   ]
  },
  {
   "cell_type": "code",
   "execution_count": 819,
   "id": "d0c51e3b-64a3-47a5-8af2-be9a937a5599",
   "metadata": {},
   "outputs": [],
   "source": [
    "df.to_csv('../ner_pdf.csv', index=False)"
   ]
  },
  {
   "cell_type": "code",
   "execution_count": null,
   "id": "4855ab6e-b245-4670-bf2d-149b73ea94aa",
   "metadata": {
    "scrolled": true
   },
   "outputs": [],
   "source": [
    "for i in range(311):\n",
    "    print(i, df.NER.loc[i])"
   ]
  },
  {
   "cell_type": "code",
   "execution_count": 685,
   "id": "893647ef-0b4d-4f04-8d8f-9b61a6caf485",
   "metadata": {
    "scrolled": true
   },
   "outputs": [],
   "source": [
    "# print(df.loc[97].text)"
   ]
  },
  {
   "cell_type": "code",
   "execution_count": null,
   "id": "d427dbe2-81c6-461b-bc76-4f26e51ed69d",
   "metadata": {},
   "outputs": [],
   "source": []
  }
 ],
 "metadata": {
  "kernelspec": {
   "display_name": "py11",
   "language": "python",
   "name": "py11"
  },
  "language_info": {
   "codemirror_mode": {
    "name": "ipython",
    "version": 3
   },
   "file_extension": ".py",
   "mimetype": "text/x-python",
   "name": "python",
   "nbconvert_exporter": "python",
   "pygments_lexer": "ipython3",
   "version": "3.11.10"
  }
 },
 "nbformat": 4,
 "nbformat_minor": 5
}
