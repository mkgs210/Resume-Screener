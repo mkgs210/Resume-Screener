{
 "cells": [
  {
   "cell_type": "code",
   "execution_count": 42,
   "metadata": {},
   "outputs": [],
   "source": [
    "import pandas as pd\n",
    "from pathlib import Path\n",
    "import shutil\n",
    "import json\n",
    "from sklearn.metrics import accuracy_score\n",
    "from openai import OpenAI\n",
    "from pydantic import BaseModel, Field"
   ]
  },
  {
   "cell_type": "code",
   "execution_count": null,
   "metadata": {},
   "outputs": [],
   "source": [
    "df = pd.read_csv(\"data/extracted_features/extraction_evaluation/x5_llm_features_51.csv\")\n",
    "df.head()"
   ]
  },
  {
   "cell_type": "code",
   "execution_count": null,
   "metadata": {},
   "outputs": [],
   "source": [
    "random_elements = df.sample(n=5, random_state=1)\n",
    "random_elements"
   ]
  },
  {
   "cell_type": "code",
   "execution_count": 45,
   "metadata": {},
   "outputs": [],
   "source": [
    "DATA_ROOT_PATH = Path(\"../../data/preprocessed/combined_data_preprocessed\")"
   ]
  },
  {
   "cell_type": "code",
   "execution_count": null,
   "metadata": {},
   "outputs": [],
   "source": [
    "for i, row in random_elements.iterrows():\n",
    "    filename = f\"data/extracted_features/extraction_evaluation/{row['Фамилия']}_{row['Имя']}_{row['Волна']}_LLM.json\"\n",
    "    features = json.loads(row[\"response\"])\n",
    "    shutil.copy(DATA_ROOT_PATH / row[\"Резюме\"], Path.cwd())\n",
    "    with open(filename, 'w') as file:\n",
    "        json.dump(features, file, ensure_ascii=False, indent=4)"
   ]
  },
  {
   "cell_type": "code",
   "execution_count": null,
   "metadata": {},
   "outputs": [],
   "source": [
    "for i, row in random_elements.iterrows():\n",
    "\n",
    "    filename_llm = f\"data/extracted_features/extraction_evaluation/{row['Фамилия']}_{row['Имя']}_{row['Волна']}_LLM.json\"\n",
    "    filename_true = f\"data/extracted_features/extraction_evaluation/{row['Фамилия']}_{row['Имя']}_{row['Волна']}_True.json\"\n",
    "\n",
    "    with open(filename_llm, 'r') as json_file:\n",
    "        features_llm = json.load(json_file)\n",
    "\n",
    "    with open(filename_true, 'r') as json_file:\n",
    "        features_true = json.load(json_file)\n",
    "\n",
    "    accuracy = accuracy_score(list(features_true.values())[1:], list(features_llm.values())[1:])\n",
    "\n",
    "    print(f\"{row['Фамилия']}_{row['Имя']}.pdf: accuracy = {accuracy:.2f}\")"
   ]
  },
  {
   "cell_type": "markdown",
   "metadata": {},
   "source": [
    "**Выводы**\n",
    "\n",
    "1. LLM очень плохо справляется с извлечением количественных и категориальных признаков с количеством категорий больше 2. Определение университета, уровня английского, высшей ступени образования и среднего балла кандидата корректно извлечь из резюме почти невозможно. \n",
    "2. С извлечением бинарных категориальных признаков дела обстоят лучше. Такие признаки, как владение Python, SQL и наличие или отсутствие в резюме информации о предыдущем опыте работы зачастую извлекаются более менее корректно. Например, если в резюме действительно нет информации об участии в конференциях, как правило, LLM корректно присваивает такому признаку значение false. Но иногда возникают проблемы с корректной интерпретацией информации, которая присутствует в резюме. Например, если в резюме указан опыт работы в качестве Computer Vision Engineer, то вполне возможно, что LLM присвоит признаку experience_as_machine_learning_engineer (есть ли у кандидата опыт работы в качестве MLE) значение false.\n",
    "3. При формировании структурированного вывода возникают проблемы с валидацией признаков. В некотрых случаях LLM присваивает признакам значения, которые не удовлетворяют указанным в pydantic-схеме границам.\n",
    "\n",
    "Таким образом, с помощью LLM более менее успешно можно извлекать только достаточно простые признаки (владение конкретными языками программирования, SQL, есть ли опыт работы в качестве DA, MLE и так далее), в то время как более значимыми являются более сложные признаки (релевантный стаж, ВУЗ, высшая ступень образования, общая структура резюме). Как следствие, по имеющимся признакам затруднительно обучить модель, которая с достаточной точностью способна была бы предсказывать вероятность прохождения технического собеседования кандидатом."
   ]
  },
  {
   "cell_type": "code",
   "execution_count": null,
   "metadata": {},
   "outputs": [],
   "source": []
  }
 ],
 "metadata": {
  "kernelspec": {
   "display_name": "venv",
   "language": "python",
   "name": "python3"
  },
  "language_info": {
   "codemirror_mode": {
    "name": "ipython",
    "version": 3
   },
   "file_extension": ".py",
   "mimetype": "text/x-python",
   "name": "python",
   "nbconvert_exporter": "python",
   "pygments_lexer": "ipython3",
   "version": "3.11.9"
  }
 },
 "nbformat": 4,
 "nbformat_minor": 2
}
