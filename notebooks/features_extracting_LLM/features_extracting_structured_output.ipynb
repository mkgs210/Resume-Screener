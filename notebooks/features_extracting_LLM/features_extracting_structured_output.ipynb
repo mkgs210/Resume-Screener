{
 "cells": [
  {
   "cell_type": "code",
   "execution_count": 251,
   "metadata": {},
   "outputs": [],
   "source": [
    "from pydantic import BaseModel, Field\n",
    "import fitz\n",
    "import pandas as pd\n",
    "from tqdm import tqdm\n",
    "from glob import glob\n",
    "import openai\n",
    "from pathlib import Path\n",
    "import os\n",
    "from openai import OpenAI\n",
    "from datetime import datetime\n",
    "import json\n",
    "from enum import Enum"
   ]
  },
  {
   "cell_type": "code",
   "execution_count": 252,
   "metadata": {},
   "outputs": [],
   "source": [
    "client = OpenAI(api_key='any-key', base_url='http://mn-dgx01.x5.ru:8000/v1')"
   ]
  },
  {
   "cell_type": "markdown",
   "metadata": {},
   "source": [
    "Создадим pydentic-модель для получения структурированного вывода LLM"
   ]
  },
  {
   "cell_type": "code",
   "execution_count": 254,
   "metadata": {},
   "outputs": [],
   "source": [
    "class ResumeJson(BaseModel):\n",
    "    # graduation_year: int = Field(..., ge=1950, le=2050, description=\"Год окончания учебного заведения (от 1950 до 2050)\")\n",
    "    gpa: float = Field(..., ge=0, le=5, description=\"Средний балл GPA (от 0 до 5)\")\n",
    "    # certifications: bool = Field(..., description=\"Наличие сертификатов (True - есть, False - нет)\")\n",
    "    # has_honors_and_awards: bool = Field(..., description=\"Наличие наград и почетных званий (True - есть, False - нет)\")\n",
    "    cplus_plus_knowledge: bool = Field(..., description=\"Кандидат владеет C++ (True - да, False - нет)\")\n",
    "    csharp_knowledge: bool = Field(..., description=\"Кандидат владеет C# (True - да, False - нет)\")\n",
    "    sql_knowledge: bool = Field(..., description=\"Кандидат владеет SQL (True - да, False - нет)\")\n",
    "    python_knowledge: bool = Field(..., description=\"Кандидат владеет Python (True - да, False - нет)\")\n",
    "    javascript_knowledge: bool = Field(..., description=\"Кандидат владеет JavaScript (True - да, False - нет)\")\n",
    "    java_knowledge: bool = Field(..., description=\"Кандидат владеет Java (True - да, False - нет)\")\n",
    "    # data_analysis_skills: bool = Field(..., description=\"Навыки анализа данных (True - да, False - нет)\")\n",
    "    # project_management_skills: bool = Field(..., description=\"Навыки управления проектами (True - да, False - нет)\")\n",
    "    cloud_computing_skills: bool = Field(..., description=\"Навыки работы с облачными технологиями (True - да, False - нет)\")\n",
    "    # communication_skills: int = Field(..., ge=0, le=3, description=\"Коммуникативные навыки (0 - отсутствуют, 1 - низкие, 2 - средние, 3 - высокие)\")\n",
    "    # problem_solving_skills: int = Field(..., ge=0, le=3, description=\"Навыки решения проблем (0 - отсутствуют, 1 - низкие, 2 - средние, 3 - высокие)\")\n",
    "    teamwork_skills: int = Field(..., ge=0, le=3, description=\"Кандидат имеет навыки работы в команде (0 - отсутствуют, 1 - низкие, 2 - средние, 3 - высокие)\")\n",
    "    # leadership_skills: int = Field(..., ge=0, le=3, description=\"Лидерские навыки (0 - отсутствуют, 1 - низкие, 2 - средние, 3 - высокие)\")\n",
    "    english_knowledge: int = Field(..., ge=0, le=3, description=\"Знание английского языка (0 - отсутствует, 1 - базовый, 2 - средний, 3 - продвинутый)\")\n",
    "    # other_languages_count: int = Field(..., ge=0, le=10, description=\"Количество других иностранных языков\")\n",
    "    # technical_skills_count: int = Field(..., ge=0, le=100, description=\"Количество упомянутых технических навыков\")\n",
    "    # resume_length: int = Field(..., ge=1, le=5, description=\"Длина резюме (1-5 - количество страниц)\")\n",
    "    # formatting_quality: int = Field(..., ge=0, le=3, description=\"Качество форматирования резюме (0 - отсутствует, 1 - плохое, 2 - среднее, 3 - хорошее)\")\n",
    "    # grammar_and_spelling: bool = Field(..., description=\"Отсутствие грамматических и орфографических ошибок (True - да, False - нет)\")\n",
    "    # clear_objective: bool = Field(..., description=\"Наличие четко указанных целей (True - да, False - нет)\")\n",
    "    # cover_letter: bool = Field(..., description=\"Наличие сопроводительного письма (True - да, False - нет)\")\n",
    "    # references: bool = Field(..., description=\"Наличие рекомендаций (True - да, False - нет)\")\n",
    "    # number_of_projects: int = Field(..., ge=0, le=50, description=\"Количество выполненных проектов\")\n",
    "    # number_of_patents: int = Field(..., ge=0, le=20, description=\"Количество патентов\")\n",
    "    # number_of_publications: int = Field(..., ge=0, le=100, description=\"Количество публикаций\")\n",
    "    # number_of_awards: int = Field(..., ge=0, le=50, description=\"Количество наград\")\n",
    "    # has_open_source_contributions: bool = Field(..., description=\"Наличие вклада в open-source проекты (True - да, False - нет)\")\n",
    "    olympiad_participation: bool = Field(..., description=\"Кандидат участвовал в олимпиадах (True - да, False - нет)\")\n",
    "    # olympiad_wins: int = Field(..., ge=0, le=20, description=\"Количество побед в олимпиадах\")\n",
    "    # years_of_experience: int = Field(..., ge=0, le=600, description=\"Общий стаж работы кандидата в месяцах\")\n",
    "    # relevant_experience: float = Field(..., ge=0, le=50, description=\"Релевантный стаж работы (в годах)\")\n",
    "    # number_of_previous_jobs: int = Field(..., ge=0, le=20, description=\"Количество предыдущих мест работы\")\n",
    "    # duration_at_last_job: int = Field(..., ge=0, le=100, description=f\"Продолжительность работы на последнем месте (в месяцах). Текущая дата: {datetime.now().strftime('%Y-%m-%d')}\")\n",
    "    # consistent_career_growth: bool = Field(..., description=\"Последовательный рост в карьере (True - да, False - нет)\")\n",
    "    # responsibilities_description_length: int = Field(..., ge=0, le=500, description=\"Длина описания обязанностей (в словах)\")\n",
    "    # achievements_quantified: bool = Field(..., description=\"Описание достижений в числовом выражении (True - да, False - нет)\")\n",
    "    has_previous_job_titles: bool = Field(..., description=\"У кандидата указаны прошлые должности (True - да, False - нет)\")\n",
    "    # has_management_experience: bool = Field(..., description=\"Наличие опыта управления (True - да, False - нет)\")\n",
    "    highest_education_level: int = Field(..., ge=1, le=3, description=\"Наивысший уровень образования (1 - среднее, 2 - бакалавр, 3 - магистр)\")\n",
    "    education_type: int = Field(..., ge=1, le=5, description=\"Тип образования (1 - программирование, 2 - математика, 3 - физика, 4 - экономика, 5 - другое)\")\n",
    "    university: int = Field(..., ge=1, le=14, description=\"\"\"Одно из следующих учебных заведений:\n",
    "                                1 - 'Московский государственный университет имени М.В. Ломоносова',\n",
    "                                2 - 'Московский государственный технический университет имени Н.Э. Баумана',\n",
    "                                3 - 'Московский физико-технический институт',\n",
    "                                4 - 'Санкт-Петербургский государственный университет',\n",
    "                                5 - 'Национальный исследовательский ядерный университет «МИФИ»',\n",
    "                                6 - 'Национальный исследовательский университет \"Высшая школа экономики\"',\n",
    "                                7 - 'Санкт-Петербургский политехнический университет Петра Великого',\n",
    "                                8 - 'Национальный исследовательский Томский политехнический университет',\n",
    "                                9 - 'Уральский федеральный университет имени первого Президента России Б.Н. Ельцина',\n",
    "                                10 - 'Финансовый университет при Правительстве РФ',\n",
    "                                11 - 'Университет ИТМО',\n",
    "                                12 - 'Новосибирский национальный исследовательский государственный университет',\n",
    "                                13 - 'Университет МИСИС'\n",
    "                                14 - 'другое'\"\"\")\n",
    "    experience_as_analyst: bool = Field(..., description=\"У кандидата имеется опыт работы в качестве аналитика (True - да, False - нет)\")\n",
    "    experience_as_data_scientist: bool = Field(..., description=\"У кандидата имеется опыт работы в качестве дата-сайентиста (True - да, False - нет)\")\n",
    "    experience_as_machine_learning_engineer: bool = Field(..., description=\"У кандидата имеется опыт работы в качестве инженера машинного обучения (True - да, False - нет)\")\n",
    "    experience_as_backend_developer: bool = Field(..., description=\"У кандидата имеется опыт работы в качестве бэкенд-разработчика (True - да, False - нет)\")\n",
    "    experience_as_frontend_developer: bool = Field(..., description=\"У кандидата имеется опыт работы в качестве фронтенд-разработчика (True - да, False - нет)\")\n",
    "    conference_participation: bool = Field(..., description=\"Кандидат участвовал в конференциях (True - да, False - нет)\")\n",
    "    hackathon_participation: bool = Field(..., description=\"Кандидат участвовал в хакатонах (True - да, False - нет)\")\n",
    "    # hackathon_wins: int = Field(..., ge=0, le=20, description=\"Количество побед в хакатонах\")\n",
    "    # candidate_level: int = Field(..., ge=1, le=4, description=\"Уровень кандидата (1 - intern, 2 - junior, 3 - middle, 4 - senior)\")"
   ]
  },
  {
   "cell_type": "code",
   "execution_count": 255,
   "metadata": {},
   "outputs": [],
   "source": [
    "def get_text_with_links(document):\n",
    "    result_text = \"\"\n",
    "    \n",
    "    for page_num in range(len(document)):\n",
    "        page = document.load_page(page_num)\n",
    "\n",
    "        # Получаем слова и их координаты\n",
    "        words = page.get_text(\"words\")\n",
    "        links = page.get_links()\n",
    "\n",
    "        # Временный словарь для отслеживания последнего индекса слова для каждого URL\n",
    "        last_occurrence_with_url = {}\n",
    "\n",
    "        wc_map = {tuple(word[:4]): word[4] for word in words}\n",
    "        \n",
    "        for link in links:\n",
    "            link_rect = fitz.Rect(link[\"from\"])\n",
    "            uri = link.get('uri', 'Нет ссылки')\n",
    "            \n",
    "            for i, word in enumerate(words):\n",
    "                text = word[4]   # текст слова\n",
    "                word_rect = fitz.Rect(word[:4])\n",
    "\n",
    "                # Проверка на пересечение координат\n",
    "                if word_rect.intersects(link_rect):\n",
    "                    last_occurrence_with_url[uri] = (i, tuple(word[:4]))\n",
    "\n",
    "        # Заменяем текст в конечном словаре ссылками на последних вхождениях\n",
    "        for uri, (index, rect) in last_occurrence_with_url.items():\n",
    "            wc_map[rect] = f'{wc_map[rect]}:\"{uri}\"'\n",
    "\n",
    "        # Сортировка слов по их координатам для правильного порядка\n",
    "        sorted_words = sorted(wc_map.items(), key=lambda x: (x[0][1], x[0][0]))\n",
    "\n",
    "        for item in sorted_words:\n",
    "            result_text += item[1] + \" \"\n",
    "    \n",
    "    return result_text.strip()"
   ]
  },
  {
   "cell_type": "code",
   "execution_count": null,
   "metadata": {},
   "outputs": [],
   "source": [
    "# Загрузка данных\n",
    "df = pd.read_csv('../../data/preprocessed/combined_data_preprocessed/kaiten_preprocessed/kaiten_preprocessed.csv')\n",
    "df = df.reset_index(drop=True)\n",
    "df = df.dropna()\n",
    "# df = df.sort_values('Резюме')\n",
    "df['text']=None\n",
    "df['response']=None\n",
    "df.head()"
   ]
  },
  {
   "cell_type": "code",
   "execution_count": 257,
   "metadata": {},
   "outputs": [],
   "source": [
    "DATA_ROOT_PATH = Path(\"../../data/preprocessed/combined_data_preprocessed\")"
   ]
  },
  {
   "cell_type": "code",
   "execution_count": null,
   "metadata": {},
   "outputs": [
    {
     "name": "stderr",
     "output_type": "stream",
     "text": [
      "548it [1:11:56,  7.88s/it]\n"
     ]
    }
   ],
   "source": [
    "for index, row in tqdm(df.iterrows()):\n",
    "    resume = row[\"Резюме\"]\n",
    "    # resume = resume.replace(\"й\", \"й\")\n",
    "    \n",
    "    if not resume.endswith(\".pdf\"):\n",
    "        continue\n",
    "\n",
    "    # pdf_path = os.path.join(DATA_ROOT_PATH, resume)\n",
    "    pdf_path = DATA_ROOT_PATH / resume\n",
    "\n",
    "    try:\n",
    "        with fitz.open(pdf_path) as doc:\n",
    "            text = get_text_with_links(doc)\n",
    "    except Exception as e:\n",
    "        print(resume.split(\"\\\\\")[-1])\n",
    "\n",
    "        print(f\"Ошибка чтения файла: {e}\")\n",
    "        continue\n",
    "    \n",
    "    df.loc[index, ['text']] = [text]\n",
    "\n",
    "    messages = [\n",
    "        {\"role\": \"system\", \"content\": \"Ты интеллектуальный ассистент для извлечения необходимой информации из резюме кандидата.\"},\n",
    "        {'role': 'user', 'content': f\"\"\"**Задача:** \n",
    "        Проанализировать резюме кандидата и сформировать JSON\n",
    "\n",
    "        **Требования**\n",
    "\n",
    "        Внимательно читай описания к каждой из строк перед заполнением, обращай внимание на ограничения.\n",
    "        В ответе предоставь только JSON.\n",
    "\n",
    "        Резюме: {text}\"\"\"}\n",
    "        ]\n",
    "\n",
    "    try:\n",
    "        response = client.chat.completions.create(\n",
    "            model=\"x5-airun-medium\",\n",
    "            messages=messages,\n",
    "            max_tokens=1024,\n",
    "            temperature=0.2,\n",
    "            top_p=0.95,\n",
    "            n=1,\n",
    "            extra_body={\"guided_json\": ResumeJson.model_json_schema()},\n",
    "            stop=None,\n",
    "        )\n",
    "        # print(response.choices[0].message.content)\n",
    "        df.loc[index, ['response']] = [response.choices[0].message.content]\n",
    "    except Exception as e:\n",
    "        print(f\"Ошибка при обращении к API: {e}\")\n",
    "        continue"
   ]
  },
  {
   "cell_type": "code",
   "execution_count": null,
   "metadata": {},
   "outputs": [],
   "source": [
    "df.head()"
   ]
  },
  {
   "cell_type": "code",
   "execution_count": 260,
   "metadata": {},
   "outputs": [],
   "source": [
    "df.to_csv('x5_llm_features_kaiten.csv', index=False)"
   ]
  },
  {
   "cell_type": "code",
   "execution_count": null,
   "metadata": {},
   "outputs": [],
   "source": []
  }
 ],
 "metadata": {
  "kernelspec": {
   "display_name": "venv",
   "language": "python",
   "name": "python3"
  },
  "language_info": {
   "codemirror_mode": {
    "name": "ipython",
    "version": 3
   },
   "file_extension": ".py",
   "mimetype": "text/x-python",
   "name": "python",
   "nbconvert_exporter": "python",
   "pygments_lexer": "ipython3",
   "version": "3.11.9"
  }
 },
 "nbformat": 4,
 "nbformat_minor": 2
}
